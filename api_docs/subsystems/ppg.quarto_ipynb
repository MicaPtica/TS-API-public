{
  "cells": [
    {
      "cell_type": "markdown",
      "metadata": {},
      "source": [
        "---\n",
        "title: 'PPG subsystem'\n",
        "repo-actions: false\n",
        "code-annotations: hover\n",
        "---\n",
        "\n",
        "\n",
        "## Intro\n",
        "Biometry subsystem provides functions to access PPG functionality.\n",
        "\n",
        "## Classes and Methods\n",
        "## Class TsPpg\n",
        "\n",
        "Handles PPG (Photoplethysmography) sensor data processing and streaming.\n",
        "This class manages the interaction with a PPG sensor, including raw and processed data streaming, \n",
        "calibration, and retrieving heart rate variability (HRV) and raw PPG data.\n",
        "\n",
        "Class methods:"
      ],
      "id": "78412716"
    },
    {
      "cell_type": "code",
      "metadata": {},
      "source": [
        "start_raw_streaming(self)"
      ],
      "id": "b6d4e3a2",
      "execution_count": null,
      "outputs": []
    },
    {
      "cell_type": "markdown",
      "metadata": {},
      "source": [
        "**start_raw_streaming(self)**\n",
        "Starts the streaming of a PPG raw data\n"
      ],
      "id": "2be2f84a"
    },
    {
      "cell_type": "code",
      "metadata": {},
      "source": [
        "# Example usage of start_raw_streaming\n",
        "ppg = TsPpg()\n",
        "ppg.start_raw_streaming()"
      ],
      "id": "2d16e202",
      "execution_count": null,
      "outputs": []
    }
  ],
  "metadata": {
    "kernelspec": {
      "display_name": "Python 3",
      "language": "python",
      "name": "python3"
    }
  },
  "nbformat": 4,
  "nbformat_minor": 5
}